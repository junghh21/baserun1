{
 "cells": [
  {
   "cell_type": "markdown",
   "metadata": {
    "id": "yzrOIcNbnVgY"
   },
   "source": [
    "To run this, press \"*Runtime*\" and press \"*Run all*\" on a **free** Tesla T4 Google Colab instance!\n",
    "<div class=\"align-center\">\n",
    "<a href=\"https://unsloth.ai/\"><img src=\"https://github.com/unslothai/unsloth/raw/main/images/unsloth%20new%20logo.png\" width=\"115\"></a>\n",
    "<a href=\"https://discord.gg/unsloth\"><img src=\"https://github.com/unslothai/unsloth/raw/main/images/Discord button.png\" width=\"145\"></a>\n",
    "<a href=\"https://docs.unsloth.ai/\"><img src=\"https://github.com/unslothai/unsloth/blob/main/images/documentation%20green%20button.png?raw=true\" width=\"125\"></a></a> Join Discord if you need help + \u2b50 <i>Star us on <a href=\"https://github.com/unslothai/unsloth\">Github</a> </i> \u2b50\n",
    "</div>\n",
    "\n",
    "To install Unsloth on your own computer, follow the installation instructions on our Github page [here](https://docs.unsloth.ai/get-started/installing-+-updating).\n",
    "\n",
    "You will learn how to do [data prep](#Data), how to [train](#Train), how to [run the model](#Inference), & [how to save it](#Save)\n"
   ]
  },
  {
   "cell_type": "markdown",
   "metadata": {
    "id": "ZppM2UflnVgb"
   },
   "source": [
    "### News"
   ]
  },
  {
   "cell_type": "markdown",
   "metadata": {
    "id": "a5mojalInVgc"
   },
   "source": [
    "**NEW** Unsloth now supports training the new **gpt-oss** model from OpenAI! You can start finetune gpt-oss for free with our **[Colab notebook](https://x.com/UnslothAI/status/1953896997867729075)**!\n",
    "\n",
    "Unsloth now supports Text-to-Speech (TTS) models. Read our [guide here](https://docs.unsloth.ai/basics/text-to-speech-tts-fine-tuning).\n",
    "\n",
    "Read our **[Gemma 3N Guide](https://docs.unsloth.ai/basics/gemma-3n-how-to-run-and-fine-tune)** and check out our new **[Dynamic 2.0](https://docs.unsloth.ai/basics/unsloth-dynamic-2.0-ggufs)** quants which outperforms other quantization methods!\n",
    "\n",
    "Visit our docs for all our [model uploads](https://docs.unsloth.ai/get-started/all-our-models) and [notebooks](https://docs.unsloth.ai/get-started/unsloth-notebooks).\n"
   ]
  },
  {
   "cell_type": "markdown",
   "metadata": {
    "id": "C3wk7M5nnVgc"
   },
   "source": [
    "### Installation"
   ]
  },
  {
   "cell_type": "code",
   "execution_count": 1,
   "metadata": {
    "id": "dqkFWxkVnVgc"
   },
   "outputs": [],
   "source": "%%capture\n# We're installing the latest Torch, Triton, OpenAI's Triton kernels, Transformers and Unsloth!\n!pip install --upgrade -qqq uv\ntry: import numpy; get_numpy = f\"numpy=={numpy.__version__}\"\nexcept: get_numpy = \"numpy\"\n!uv pip install -qqq \\\n    \"torch>=2.8.0\" \"triton>=3.4.0\" {get_numpy} torchvision bitsandbytes \"transformers>=4.55.3\" \\\n    \"unsloth_zoo[base] @ git+https://github.com/unslothai/unsloth-zoo\" \\\n    \"unsloth[base] @ git+https://github.com/unslothai/unsloth\" \\\n    git+https://github.com/triton-lang/triton.git@05b2c186c1b6c9a08375389d5efe9cb4c401c075#subdirectory=python/triton_kernels\n!uv pip install transformers==4.55.4"
  },
  {
   "cell_type": "markdown",
   "metadata": {
    "id": "NJq3z_gYnVgd"
   },
   "source": [
    "### Unsloth"
   ]
  },
  {
   "cell_type": "markdown",
   "metadata": {
    "id": "r2v_X2fA0Df5"
   },
   "source": [
    "We're about to demonstrate the power of the new OpenAI GPT-OSS 20B model through a finetuning example. To use our `MXFP4` inference example, use this [notebook](https://colab.research.google.com/github/unslothai/notebooks/blob/main/nb/GPT_OSS_MXFP4_(20B)-Inference.ipynb) instead."
   ]
  },
  {
   "cell_type": "code",
   "execution_count": 2,
   "metadata": {
    "colab": {
     "base_uri": "https://localhost:8080/",
     "height": 527,
     "referenced_widgets": [
      "8c039ec5fb594077aa9947c2683ca1ef",
      "73107ec68ea84a12914293008d2f2cd9",
      "18524360ea164f8794178e7dd4ece59c",
      "9990ddfd1aa94f07b43545d1c8bca2b4",
      "22c213a5fb574eeea5f9a7efab5b1ba7",
      "b372d6ed1c204203be1fac53f2093c62",
      "376cd15963c84026a4ba2a2c212b813e",
      "38f281294af847129355dfa86416ae0c",
      "aa5d182dec464a709c6f3ce95b415304",
      "8f39efb61c224ae18db657ce38efd085",
      "2a2612b9d72c49089ebb79bb28c0c415",
      "607d1555851348b7813f6a3db1844109",
      "c4e07ba599fc462792e39b6f3841ec46",
      "29d35da050f94c17a8b09331e16d9c23",
      "19983e4ce30944c7a57abfe01e463eb0",
      "a0713b54fa2b47c2b726042051640522",
      "f1237a5c19014663b8ec6475ff81091d",
      "585b94dcbd1c4a1595c7c6b110ead7ef",
      "4b3e58cb5db14f4988a3eb953b98e248",
      "ae71957fa4f04efb9e8f207f1d9de48c",
      "9643968ed03642429372c2dac797031b",
      "48bb950cb7224cf681b8892d9bae389d",
      "be2ea37136c24ffab3758cc90ec310c6",
      "d827c81f690044e2b3002e81be8ccc86",
      "88d58b3bc15f4d029f361a5f012f0dfe",
      "18bfa19f04a2490ba5c4097a3d956a07",
      "5b94be536a47455bb802b9e9efb3bc37",
      "ebb49ff5feff47aca6953a77806bfcc0",
      "f3c6916566f0483082b75a6232501001",
      "65d2db12df6942b98bda16b738191f34",
      "341e656e22e24cf0a54484dc1131ac0b",
      "98122f1f5c974405aec8cee21d511235",
      "60ee8e94b3794c6085a03a96058d03ee",
      "d9b1cfdaa58f4a579addc1bfb41e3622",
      "69176a4379e74670a765be4b916e718a",
      "cd691c6e5bf746f3870c3b059f04778d",
      "42db3b1fa57a4d85ad46f5641e3daddd",
      "dd8e22c3182a486b968acfb24757a567",
      "5f96703d9fd64ee7b52b02662e7afffc",
      "51c530ca4981460c99501f5f90f3a182",
      "2d762276a54c4ecb89649d1d58997069",
      "41e0eae9d175446e86c5c84f850b362f",
      "ded74fd1bf114fe1a7c3d1bc0b6dd6ab",
      "f999d6c9069249b9ae9e1a32a3a0a80f",
      "28bf8cd1a1f04fb099ffc36700ead6ad",
      "c5996543c5c346a99000c70e810f8e8c",
      "477177141b7349e9b3e01fdfd845bfbb",
      "686d7f8f60554cdba30eeda79db4501f",
      "ba25ca3bc967493c8d9f53670d6245b9",
      "bd365bd853fd417aa7b7096ea1e9540c",
      "fd15ab7222824c9abcce3a17cc0209af",
      "b2df64020b764343914f9acc97d86076",
      "1b7009babefe4108be77c969c97c6c56",
      "2e560b107cbf4f9ea1b34bf3a3094678",
      "74ebde2ac07d49f0ba65b7d70cea09f1",
      "323c5d1ee6fd4fc99951adda4afb572c",
      "444905088dc045faa382e6fdec70574a",
      "65f08647736f42c285980f4580b8c3f2",
      "ddd55b7ba1164e809f9406bf2f9de9a4",
      "09d35ff962e24e0791932a5d60a8a911",
      "6db32b388f734fd598644ddfef4632f1",
      "50baccf35989487f9bc9049ff4303f4d",
      "479f8e8afeab4bc3ac20363e7dfef770",
      "8ec51fbe49f74f82b0f13c658f5d6bf8",
      "8d925b65a79240f0bad9cd8add2bfec7",
      "cb7de23470ce4dbbbb3a636d1aa0af9c",
      "14dd75fc40d94565b05931f6d9519b8a",
      "6378d55aada8467688da8d1da0c123ce",
      "ff74e51179ab471b898e11008c91629e",
      "3821f16f51ab4f3ebedb06c94d3846ce",
      "1f050ac26f114a36b2c8fbf810084bf5",
      "99dfd860e52240838e9c55238884fcee",
      "a17f3673fb6c4971bd53489a80c12b03",
      "72de77c20e1c4e3982aefb8a6868fed6",
      "ccb4d40f2ede4676a334aed9855aabf7",
      "54355aab70f34cbc8465048d8cdd8cf2",
      "6c279fe5cb444673a65f1caba4648fc4",
      "b1683c2194bf4d34bd61434fcca06c32",
      "d73ccf7259b9439299a1d17cd22b822b",
      "ad6e28f080ef4ee8bb6ec726669df8c5",
      "0c95cd53486241a689301dee6bd3c2d3",
      "ecb9b5a306cc4244a12f8bdd7c65e498",
      "add72aaf688a4ad8bfe7b5ffda08d21d",
      "70f86aee84a143159feded54e0b0e2ee",
      "d22ce9627bdf41f59e74bd46c8e0d921",
      "024cba3b43c840238940ef161521c7cb",
      "83dd0a7d75d544f1a64fb265822b1dc6",
      "28b1a6aef393405ba325d29e470b9332",
      "157cdd563d2145388b8288d7ed981f6f",
      "d302c13ddea44894bad6494309771580",
      "d307e2839dae4480b07e25b1db2ff9e1",
      "8cd9481d509d40d398acda0fe597c999",
      "bb816edcb65640688306f1b099a1a088",
      "c0615e2ed6c246d3bd64e50002f1b5cf",
      "72986da11c5c400b8f3fcf73cebf8af8",
      "83fd58564b7d46c38cff553df21a69c6",
      "75ead08eb8124736800f59c455785cba",
      "040250e6afb74feeb107c69e50a985bc",
      "5d6c9f818ec94c5d9f8b325839371963",
      "097cf7aa8f4344dd84af6021e12ee829",
      "7322a242ad4744168de44963be435725",
      "30fd12adf3a14aad813b0d9b29670596",
      "3a1670c82c4544578816944852a3a48f",
      "fd443c983f1a409aa6be506aea521e9a",
      "88e50815be2a48e2a434b78ea4b98bd2",
      "5e42a9d44ffe44eebf95d3bc0fd0f752",
      "bb24af1cff464e35912adcb7fb2bd070",
      "332a4aedcef1459b8a553a9c8a27a72d",
      "3f023c6bb6604ae9b4c6eea1fd12a905",
      "1be08746d9294ea49380a48182acfaa1",
      "54608166730a4e4aa836a2588faa0f5b",
      "e75762e5993c440da2c0fb38056a56c4",
      "1447cc59ce834e9b950c9f78d557f11c",
      "7b312cbc61c342eda30999be93bda78b",
      "57f520767b4a4cc2bfe993457f9f6799",
      "11ada4258a894a27a4e096257ecac8ff",
      "f527df8dc8734cbcac2bfe27faaa7dfa",
      "b1cdcb9c0b9a463bbbc4a16b64f24e12",
      "0c6c7e5a315e44c0a545515626ef3606",
      "6d1644394190402baf9a58b00b1b3de8",
      "3c88be2e8d5b4559b7c1928e7a46e847"
     ]
    },
    "id": "QmUBVEnvCDJv",
    "outputId": "62fa5df0-0119-443b-84b8-ecc19401ee3b"
   },
  },
}

